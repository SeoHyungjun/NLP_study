{
  "nbformat": 4,
  "nbformat_minor": 0,
  "metadata": {
    "colab": {
      "name": "One-Hot_Encoding_and_Similarity.ipynb",
      "provenance": []
    },
    "kernelspec": {
      "name": "python3",
      "display_name": "Python 3"
    },
    "language_info": {
      "name": "python"
    }
  },
  "cells": [
    {
      "cell_type": "markdown",
      "source": [
        "# 단어의 표현 (Word Representation)\n",
        "기계는 문자를 그대로 인식할 수 없기때문에 숫자로 변환"
      ],
      "metadata": {
        "id": "GruiuqauILvI"
      }
    },
    {
      "cell_type": "markdown",
      "source": [
        "# 1 원-핫 인코딩 (One-Hot Encoding)\n",
        "\n"
      ],
      "metadata": {
        "id": "FsMdq5YeIT5E"
      }
    },
    {
      "cell_type": "markdown",
      "source": [
        "## 1-1 직접 구현해보기"
      ],
      "metadata": {
        "id": "maHCeqc-IT8O"
      }
    },
    {
      "cell_type": "markdown",
      "source": [
        "### \"원숭이, 바나나, 사과\"로 원-핫 인코딩을 한다면"
      ],
      "metadata": {
        "id": "IDZR21__IeDL"
      }
    },
    {
      "cell_type": "code",
      "source": [
        "# 인코딩 대상 단어들을 담은 리스트 생성\n",
        "word_ls = ['원숭이', '바나나', '사과']"
      ],
      "metadata": {
        "id": "ZTytTNSoISu3"
      },
      "execution_count": 1,
      "outputs": []
    },
    {
      "cell_type": "code",
      "source": [
        "# 단어별 인덱스 지정\n",
        "from collections import defaultdict\n",
        "import numpy as np\n",
        "\n",
        "word2id_dic = defaultdict(lambda:len(word2id_dic))\n",
        "\n",
        "for word in word_ls:\n",
        "  word2id_dic[word]\n",
        "\n",
        "# 고유한 단어수 체크\n",
        "n_unique_words = len(word2id_dic)\n",
        "one_hot_vectors = np.zeros((len(word_ls), n_unique_words))\n",
        "\n",
        "# 원핫 벡터 생성\n",
        "for i, word in enumerate(word_ls):\n",
        "  index = word2id_dic[word]\n",
        "  one_hot_vectors[i, index] = 1\n",
        "\n",
        "one_hot_vectors"
      ],
      "metadata": {
        "colab": {
          "base_uri": "https://localhost:8080/"
        },
        "id": "Q5f4-AWdImTF",
        "outputId": "140dc648-c142-44b5-8a5d-0f0607673c6b"
      },
      "execution_count": 2,
      "outputs": [
        {
          "output_type": "execute_result",
          "data": {
            "text/plain": [
              "array([[1., 0., 0.],\n",
              "       [0., 1., 0.],\n",
              "       [0., 0., 1.]])"
            ]
          },
          "metadata": {},
          "execution_count": 2
        }
      ]
    },
    {
      "cell_type": "code",
      "source": [
        "# 원핫인코딩 함수 정의\n",
        "def one_hot_encoding(word_ls):\n",
        "  word2id_dic = defaultdict(lambda:len(word2id_dic))\n",
        "\n",
        "  for word in word_ls:\n",
        "    word2id_dic[word]\n",
        "\n",
        "  # 고유한 단어수 체크\n",
        "  n_unique_words = len(word2id_dic)\n",
        "  one_hot_vectors = np.zeros((len(word_ls), n_unique_words))\n",
        "\n",
        "  # 원핫 벡터 생성\n",
        "  for i, word in enumerate(word_ls):\n",
        "    index = word2id_dic[word]\n",
        "    one_hot_vectors[i, index] = 1\n",
        "\n",
        "  return one_hot_vectors"
      ],
      "metadata": {
        "id": "IUUFii_iJ06h"
      },
      "execution_count": 3,
      "outputs": []
    },
    {
      "cell_type": "markdown",
      "source": [
        "### \"코끼리\"라는 단어가 추가된다면?"
      ],
      "metadata": {
        "id": "z_uA68h2J-8K"
      }
    },
    {
      "cell_type": "code",
      "source": [
        "word_ls = ['원숭이', '바나나', '사과', '코끼리']"
      ],
      "metadata": {
        "id": "XeQvSEm8J9rE"
      },
      "execution_count": 4,
      "outputs": []
    },
    {
      "cell_type": "code",
      "source": [
        "one_hot_encoding(word_ls)"
      ],
      "metadata": {
        "colab": {
          "base_uri": "https://localhost:8080/"
        },
        "id": "fpwxXeUNKGyI",
        "outputId": "37347353-d615-4534-b90b-823fd0230378"
      },
      "execution_count": 5,
      "outputs": [
        {
          "output_type": "execute_result",
          "data": {
            "text/plain": [
              "array([[1., 0., 0., 0.],\n",
              "       [0., 1., 0., 0.],\n",
              "       [0., 0., 1., 0.],\n",
              "       [0., 0., 0., 1.]])"
            ]
          },
          "metadata": {},
          "execution_count": 5
        }
      ]
    },
    {
      "cell_type": "markdown",
      "source": [
        "## 1-2 sklearn 활용"
      ],
      "metadata": {
        "id": "p_LiGDPkKRTx"
      }
    },
    {
      "cell_type": "code",
      "source": [
        "word_ls = ['원숭이', '바나나', '사과', '코끼리', '코끼리', '개']"
      ],
      "metadata": {
        "id": "mOyfbezfK056"
      },
      "execution_count": 8,
      "outputs": []
    },
    {
      "cell_type": "code",
      "source": [
        "from sklearn.preprocessing import LabelEncoder, OneHotEncoder\n",
        "\n",
        "# 문자열에 숫자를 부여함 (LabelEncoder)\n",
        "label_enc = LabelEncoder()\n",
        "int_enc = label_enc.fit_transform(word_ls)\n",
        "print(int_enc)\n",
        "\n",
        "# 원핫 인코딩\n",
        "onehot_enc = OneHotEncoder(sparse=False)\n",
        "int_enc = int_enc.reshape(len(int_enc), 1)\n",
        "onehot_vectors = onehot_enc.fit_transform(int_enc)\n",
        "print(onehot_vectors)"
      ],
      "metadata": {
        "colab": {
          "base_uri": "https://localhost:8080/"
        },
        "id": "d8SQhR1UKIkn",
        "outputId": "163c9b1c-c15e-4969-92a7-4830a4297b81"
      },
      "execution_count": 10,
      "outputs": [
        {
          "output_type": "stream",
          "name": "stdout",
          "text": [
            "[3 1 2 4 4 0]\n",
            "[[0. 0. 0. 1. 0.]\n",
            " [0. 1. 0. 0. 0.]\n",
            " [0. 0. 1. 0. 0.]\n",
            " [0. 0. 0. 0. 1.]\n",
            " [0. 0. 0. 0. 1.]\n",
            " [1. 0. 0. 0. 0.]]\n"
          ]
        }
      ]
    },
    {
      "cell_type": "code",
      "source": [
        "# sklearn을 사용한 원핫 인코딩 함수 정의\n",
        "def one_hot_encoding_sklearn(word_ls):\n",
        "  # 문자열에 숫자를 부여함 (LabelEncoder)\n",
        "  label_enc = LabelEncoder()\n",
        "  int_enc = label_enc.fit_transform(word_ls)\n",
        "\n",
        "  # 원핫 인코딩\n",
        "  onehot_enc = OneHotEncoder(sparse=False)\n",
        "  int_enc = int_enc.reshape(len(int_enc), 1)\n",
        "  onehot_vectors = onehot_enc.fit_transform(int_enc)\n",
        "\n",
        "  return onehot_vectors"
      ],
      "metadata": {
        "id": "DqrmJp0ZLOYg"
      },
      "execution_count": 11,
      "outputs": []
    },
    {
      "cell_type": "markdown",
      "source": [
        "sklearn을 사용할 경우 가나다 순으로 정렬되어 순서가 다르게 나온다"
      ],
      "metadata": {
        "id": "qjAMpCncL3zC"
      }
    },
    {
      "cell_type": "code",
      "source": [
        "one_hot_encoding_sklearn(word_ls)"
      ],
      "metadata": {
        "colab": {
          "base_uri": "https://localhost:8080/"
        },
        "id": "w534JHUULsQb",
        "outputId": "4686ab40-f59d-4ef4-d008-11f019a6b975"
      },
      "execution_count": 12,
      "outputs": [
        {
          "output_type": "execute_result",
          "data": {
            "text/plain": [
              "array([[0., 0., 0., 1., 0.],\n",
              "       [0., 1., 0., 0., 0.],\n",
              "       [0., 0., 1., 0., 0.],\n",
              "       [0., 0., 0., 0., 1.],\n",
              "       [0., 0., 0., 0., 1.],\n",
              "       [1., 0., 0., 0., 0.]])"
            ]
          },
          "metadata": {},
          "execution_count": 12
        }
      ]
    },
    {
      "cell_type": "markdown",
      "source": [
        "# 2 유사도 계산\n",
        "\n"
      ],
      "metadata": {
        "id": "QeXd7YZPL-20"
      }
    },
    {
      "cell_type": "markdown",
      "source": [
        "## 2-1 유클리디언 거리 (Euclidean distance)\n",
        "두 벡터 사이의 직선 거리. 피타고라스 정리를 생각하면 이해하기 쉬움\n",
        "\n",
        "https://en.wikipedia.org/wiki/Euclidean_distance\n"
      ],
      "metadata": {
        "id": "F6JgiuziL-_6"
      }
    },
    {
      "cell_type": "code",
      "source": [
        "word_embedding_dic = {\n",
        "    '사과' : [1.0, 0.5],\n",
        "    '바나나' : [0.9, 1.2],\n",
        "    '원숭이' : [0.5, 1.5]\n",
        "}"
      ],
      "metadata": {
        "id": "lgYwDM1HLxyL"
      },
      "execution_count": 13,
      "outputs": []
    },
    {
      "cell_type": "code",
      "source": [
        "import numpy as np\n",
        "\n",
        "a = word_embedding_dic['사과']\n",
        "b = word_embedding_dic['바나나']\n",
        "\n",
        "x = np.array(a)\n",
        "y = np.array(b)\n",
        "\n",
        "np.sqrt(np.sum((x-y)**2))"
      ],
      "metadata": {
        "colab": {
          "base_uri": "https://localhost:8080/"
        },
        "id": "mPStG-wNMYNg",
        "outputId": "48b3103d-ee18-4826-ed42-f8a36d8288eb"
      },
      "execution_count": 15,
      "outputs": [
        {
          "output_type": "execute_result",
          "data": {
            "text/plain": [
              "0.7071067811865475"
            ]
          },
          "metadata": {},
          "execution_count": 15
        }
      ]
    },
    {
      "cell_type": "code",
      "source": [
        "# 유클리디언 거리 구하는 함수 정의\n",
        "def euclidean_dist(a, b):\n",
        "  x = np.array(a)\n",
        "  y = np.array(b)\n",
        "\n",
        "  return np.sqrt(np.sum((x-y)**2))"
      ],
      "metadata": {
        "id": "i_uXSLELMn9d"
      },
      "execution_count": 16,
      "outputs": []
    },
    {
      "cell_type": "code",
      "source": [
        "euclidean_dist(a, b)"
      ],
      "metadata": {
        "colab": {
          "base_uri": "https://localhost:8080/"
        },
        "id": "CirM5_hLM1lg",
        "outputId": "d73690b0-b1d9-4cba-879e-3b9b3d062546"
      },
      "execution_count": 17,
      "outputs": [
        {
          "output_type": "execute_result",
          "data": {
            "text/plain": [
              "0.7071067811865475"
            ]
          },
          "metadata": {},
          "execution_count": 17
        }
      ]
    },
    {
      "cell_type": "markdown",
      "source": [
        "## 2-2 자카드 유사도 (Jaccard index)\n",
        "https://en.wikipedia.org/wiki/Jaccard_index"
      ],
      "metadata": {
        "id": "Fq-GkoPhM5ke"
      }
    },
    {
      "cell_type": "code",
      "source": [
        "s1 = '대부분 원숭이는 바나나를 좋아합니다.'\n",
        "s2 = '코주부 원숭이는 바나나를 싫어합니다.'\n",
        "\n",
        "# 간단하게 띄어쓰기를 기준으로 토큰화"
      ],
      "metadata": {
        "id": "kjlDMjsxM4an"
      },
      "execution_count": 18,
      "outputs": []
    },
    {
      "cell_type": "code",
      "source": [
        "token_s1 = s1.split()\n",
        "token_s2 = s2.split()"
      ],
      "metadata": {
        "id": "WvEi_kKVNPmD"
      },
      "execution_count": 19,
      "outputs": []
    },
    {
      "cell_type": "code",
      "source": [
        "print(token_s1)\n",
        "print(token_s2)"
      ],
      "metadata": {
        "colab": {
          "base_uri": "https://localhost:8080/"
        },
        "id": "IVlGrpALNSwC",
        "outputId": "466331fa-78ba-49e0-e792-bc6bc6142059"
      },
      "execution_count": 20,
      "outputs": [
        {
          "output_type": "stream",
          "name": "stdout",
          "text": [
            "['대부분', '원숭이는', '바나나를', '좋아합니다.']\n",
            "['코주부', '원숭이는', '바나나를', '싫어합니다.']\n"
          ]
        }
      ]
    },
    {
      "cell_type": "code",
      "source": [
        "union = set(token_s1).union(set(token_s2)) # 합집합\n",
        "intersection = set(token_s1).intersection(set(token_s2)) # 교집합"
      ],
      "metadata": {
        "id": "CJr8O_4bNWQ6"
      },
      "execution_count": 23,
      "outputs": []
    },
    {
      "cell_type": "code",
      "source": [
        "len(intersection)/len(union)"
      ],
      "metadata": {
        "colab": {
          "base_uri": "https://localhost:8080/"
        },
        "id": "DKE4OtNVNbTu",
        "outputId": "88124bb0-a0cd-4e1d-a5dd-560c65d5baa3"
      },
      "execution_count": 24,
      "outputs": [
        {
          "output_type": "execute_result",
          "data": {
            "text/plain": [
              "0.3333333333333333"
            ]
          },
          "metadata": {},
          "execution_count": 24
        }
      ]
    },
    {
      "cell_type": "markdown",
      "source": [
        "두 문장의 유사도는 33% 이다"
      ],
      "metadata": {
        "id": "viNqXmtkNnNm"
      }
    },
    {
      "cell_type": "code",
      "source": [
        "# 자카드 유사도 함수 정의\n",
        "def jaccard_index(s1, s2):\n",
        "  token_s1 = s1.split()\n",
        "  token_s2 = s2.split()\n",
        "\n",
        "  union = set(token_s1).union(set(token_s2)) # 합집합\n",
        "  intersection = set(token_s1).intersection(set(token_s2)) # 교집합\n",
        "\n",
        "  return len(intersection)/len(union)"
      ],
      "metadata": {
        "id": "4Vgs_2b2Nmrg"
      },
      "execution_count": 25,
      "outputs": []
    },
    {
      "cell_type": "code",
      "source": [
        "jaccard_index(s1, s2)"
      ],
      "metadata": {
        "colab": {
          "base_uri": "https://localhost:8080/"
        },
        "id": "UljIZxkYNzfb",
        "outputId": "8572193b-fd88-449f-b268-ea8158c34543"
      },
      "execution_count": 26,
      "outputs": [
        {
          "output_type": "execute_result",
          "data": {
            "text/plain": [
              "0.3333333333333333"
            ]
          },
          "metadata": {},
          "execution_count": 26
        }
      ]
    },
    {
      "cell_type": "markdown",
      "source": [
        "## 2-3 코사인 유사도 (Cosine Similarity)\n",
        "* 두 벡터간의 유사도를 측정하는 방법 중 하나\n",
        "* 두 벡터 사이의 코사인을 측정\n",
        "* 0도 = 1, 90도 = 0, 180도 = -1   ->   1에 가까울수록 유사도가 높음\n",
        "\n",
        "https://en.wikipedia.org/wiki/Cosine_similarity"
      ],
      "metadata": {
        "id": "c9S1BMxaN2cg"
      }
    },
    {
      "cell_type": "code",
      "source": [
        "import numpy as np\n",
        "\n",
        "n = np.dot(a, b)\n",
        "d = np.linalg.norm(a) * np.linalg.norm(b)\n",
        "n / d"
      ],
      "metadata": {
        "colab": {
          "base_uri": "https://localhost:8080/"
        },
        "id": "7CcjYQ_WN1T-",
        "outputId": "bcbfa5ba-7a74-4037-d032-7179af3ebe14"
      },
      "execution_count": 29,
      "outputs": [
        {
          "output_type": "execute_result",
          "data": {
            "text/plain": [
              "0.8944271909999159"
            ]
          },
          "metadata": {},
          "execution_count": 29
        }
      ]
    },
    {
      "cell_type": "code",
      "source": [
        "# 코사인 유사도 함수 정의\n",
        "def cosine_similarity(a, b):\n",
        "  n = np.dot(a, b)\n",
        "  d = np.linalg.norm(a) * np.linalg.norm(b)\n",
        "  return n / d"
      ],
      "metadata": {
        "id": "2U3WevwaOROT"
      },
      "execution_count": 30,
      "outputs": []
    },
    {
      "cell_type": "code",
      "source": [
        "cosine_similarity(a, b)"
      ],
      "metadata": {
        "colab": {
          "base_uri": "https://localhost:8080/"
        },
        "id": "gvoc28MJOkTU",
        "outputId": "512f8906-48ff-4a23-edf5-0dc732ceaa7f"
      },
      "execution_count": 31,
      "outputs": [
        {
          "output_type": "execute_result",
          "data": {
            "text/plain": [
              "0.8944271909999159"
            ]
          },
          "metadata": {},
          "execution_count": 31
        }
      ]
    },
    {
      "cell_type": "code",
      "source": [
        "# 테스트\n",
        "euclidean_dist(word_embedding_dic['사과'], word_embedding_dic['바나나'])"
      ],
      "metadata": {
        "colab": {
          "base_uri": "https://localhost:8080/"
        },
        "id": "gYc9hhRvOl9p",
        "outputId": "decfc102-48ea-4f2d-8a03-4ffe3a628d83"
      },
      "execution_count": 33,
      "outputs": [
        {
          "output_type": "execute_result",
          "data": {
            "text/plain": [
              "0.7071067811865475"
            ]
          },
          "metadata": {},
          "execution_count": 33
        }
      ]
    },
    {
      "cell_type": "code",
      "source": [
        "cosine_similarity(word_embedding_dic['사과'], word_embedding_dic['바나나'])"
      ],
      "metadata": {
        "colab": {
          "base_uri": "https://localhost:8080/"
        },
        "id": "hHBYDFEpO50S",
        "outputId": "14cd7f76-217b-4050-9469-4dcaeadd484f"
      },
      "execution_count": 34,
      "outputs": [
        {
          "output_type": "execute_result",
          "data": {
            "text/plain": [
              "0.8944271909999159"
            ]
          },
          "metadata": {},
          "execution_count": 34
        }
      ]
    }
  ]
}