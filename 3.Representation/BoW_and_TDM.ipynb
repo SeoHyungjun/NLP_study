{
  "nbformat": 4,
  "nbformat_minor": 0,
  "metadata": {
    "colab": {
      "name": "Untitled2.ipynb",
      "provenance": []
    },
    "kernelspec": {
      "name": "python3",
      "display_name": "Python 3"
    },
    "language_info": {
      "name": "python"
    }
  },
  "cells": [
    {
      "cell_type": "markdown",
      "source": [
        "#  BoW (Bag of Word)"
      ],
      "metadata": {
        "id": "_7dsVtKMy12G"
      }
    },
    {
      "cell_type": "markdown",
      "source": [
        "## 1.1 직접 구현"
      ],
      "metadata": {
        "id": "8jSWhVS_y_AA"
      }
    },
    {
      "cell_type": "code",
      "execution_count": 1,
      "metadata": {
        "id": "ai6-r3V3y05P"
      },
      "outputs": [],
      "source": [
        "docs = ['오늘 동물원에서 원숭이를 봤어',\n",
        "        '오늘 동물원에서 코끼리를 봤어 봤어',\n",
        "        '동물원에서 원숭이에게 바나나를 줬어 바나나를']"
      ]
    },
    {
      "cell_type": "markdown",
      "source": [
        "### 1) 띄어쓰기 단위로 토큰화"
      ],
      "metadata": {
        "id": "dZrM366bzKi8"
      }
    },
    {
      "cell_type": "code",
      "source": [
        "doc_ls = [d.split() for d in docs]\n",
        "doc_ls"
      ],
      "metadata": {
        "colab": {
          "base_uri": "https://localhost:8080/"
        },
        "id": "Ue6wm9ibzNdf",
        "outputId": "513965e1-c1d4-4ea4-b188-90abf9fd5644"
      },
      "execution_count": 2,
      "outputs": [
        {
          "output_type": "execute_result",
          "data": {
            "text/plain": [
              "[['오늘', '동물원에서', '원숭이를', '봤어'],\n",
              " ['오늘', '동물원에서', '코끼리를', '봤어', '봤어'],\n",
              " ['동물원에서', '원숭이에게', '바나나를', '줬어', '바나나를']]"
            ]
          },
          "metadata": {},
          "execution_count": 2
        }
      ]
    },
    {
      "cell_type": "markdown",
      "source": [
        "### 2) 각 고유 토큰에 인덱스(Index)를 지정"
      ],
      "metadata": {
        "id": "DpH_8udnzN6u"
      }
    },
    {
      "cell_type": "code",
      "source": [
        "from collections import defaultdict\n",
        "\n",
        "word2id = defaultdict(lambda:len(word2id))\n",
        "[word2id[t] for d in doc_ls for t in d]\n",
        "word2id"
      ],
      "metadata": {
        "colab": {
          "base_uri": "https://localhost:8080/"
        },
        "id": "-5vx69Mty36N",
        "outputId": "ecbd5fea-3512-495e-f7d9-d04428139d3a"
      },
      "execution_count": 3,
      "outputs": [
        {
          "output_type": "execute_result",
          "data": {
            "text/plain": [
              "defaultdict(<function __main__.<lambda>>,\n",
              "            {'동물원에서': 1,\n",
              "             '바나나를': 6,\n",
              "             '봤어': 3,\n",
              "             '오늘': 0,\n",
              "             '원숭이를': 2,\n",
              "             '원숭이에게': 5,\n",
              "             '줬어': 7,\n",
              "             '코끼리를': 4})"
            ]
          },
          "metadata": {},
          "execution_count": 3
        }
      ]
    },
    {
      "cell_type": "markdown",
      "source": [
        "### 3) BoW 생성"
      ],
      "metadata": {
        "id": "Kx_1fNnrztML"
      }
    },
    {
      "cell_type": "code",
      "source": [
        "import numpy as np\n",
        "\n",
        "bow_ls = []\n",
        "\n",
        "for i, d in enumerate(doc_ls):\n",
        "  bow = np.zeros(len(word2id), dtype=int)\n",
        "  for t in d:\n",
        "    bow[word2id[t]] += 1\n",
        "  bow_ls.append(bow.tolist())"
      ],
      "metadata": {
        "id": "HLCiRYZNzr5V"
      },
      "execution_count": 4,
      "outputs": []
    },
    {
      "cell_type": "code",
      "source": [
        "bow_ls"
      ],
      "metadata": {
        "colab": {
          "base_uri": "https://localhost:8080/"
        },
        "id": "Ltz5zXrP0R7T",
        "outputId": "3647f920-10c5-485d-f784-ca3c4d44db21"
      },
      "execution_count": 5,
      "outputs": [
        {
          "output_type": "execute_result",
          "data": {
            "text/plain": [
              "[[1, 1, 1, 1, 0, 0, 0, 0], [1, 1, 0, 2, 1, 0, 0, 0], [0, 1, 0, 0, 0, 1, 2, 1]]"
            ]
          },
          "metadata": {},
          "execution_count": 5
        }
      ]
    },
    {
      "cell_type": "markdown",
      "source": [
        "## 1.2 단어 순서를 고려하지 않은 Bow"
      ],
      "metadata": {
        "id": "MnWcf-p-0b3K"
      }
    },
    {
      "cell_type": "code",
      "source": [
        "docs = ['나는 양념 치킨을 좋아해 하지만 후라이드 치킨을 싫어해',\n",
        "        '나는 후라이드 치킨을 좋아해 하지만 양념 치킨을 싫어해']"
      ],
      "metadata": {
        "id": "TIn8r4rD0Sk1"
      },
      "execution_count": 6,
      "outputs": []
    },
    {
      "cell_type": "markdown",
      "source": [
        "### 1) 띄어쓰기 단위로 토큰화"
      ],
      "metadata": {
        "id": "mxhw7nw20tay"
      }
    },
    {
      "cell_type": "code",
      "source": [
        "doc_ls = [d.split() for d in docs]\n",
        "doc_ls"
      ],
      "metadata": {
        "colab": {
          "base_uri": "https://localhost:8080/"
        },
        "id": "tXyQt9wl05no",
        "outputId": "40f278b6-1483-41aa-cda2-b33d561d7174"
      },
      "execution_count": 7,
      "outputs": [
        {
          "output_type": "execute_result",
          "data": {
            "text/plain": [
              "[['나는', '양념', '치킨을', '좋아해', '하지만', '후라이드', '치킨을', '싫어해'],\n",
              " ['나는', '후라이드', '치킨을', '좋아해', '하지만', '양념', '치킨을', '싫어해']]"
            ]
          },
          "metadata": {},
          "execution_count": 7
        }
      ]
    },
    {
      "cell_type": "markdown",
      "source": [
        "### 2) 각 고유 토큰에 인덱스(Index)를 지정"
      ],
      "metadata": {
        "id": "56zhppJQ0tc7"
      }
    },
    {
      "cell_type": "code",
      "source": [
        "from collections import defaultdict\n",
        "\n",
        "word2id = defaultdict(lambda:len(word2id))\n",
        "[word2id[t] for d in doc_ls for t in d]\n",
        "word2id"
      ],
      "metadata": {
        "colab": {
          "base_uri": "https://localhost:8080/"
        },
        "id": "6vOTFMG307KD",
        "outputId": "bb484bf2-7b83-452b-d5a8-e89ea92b7513"
      },
      "execution_count": 8,
      "outputs": [
        {
          "output_type": "execute_result",
          "data": {
            "text/plain": [
              "defaultdict(<function __main__.<lambda>>,\n",
              "            {'나는': 0,\n",
              "             '싫어해': 6,\n",
              "             '양념': 1,\n",
              "             '좋아해': 3,\n",
              "             '치킨을': 2,\n",
              "             '하지만': 4,\n",
              "             '후라이드': 5})"
            ]
          },
          "metadata": {},
          "execution_count": 8
        }
      ]
    },
    {
      "cell_type": "markdown",
      "source": [
        "### 3) BoW 생성"
      ],
      "metadata": {
        "id": "HJ4wPmNq0tfS"
      }
    },
    {
      "cell_type": "code",
      "source": [
        "import numpy as np\n",
        "\n",
        "bow_ls = []\n",
        "\n",
        "for i, d in enumerate(doc_ls):\n",
        "  bow = np.zeros(len(word2id), dtype=int)\n",
        "  for t in d:\n",
        "    bow[word2id[t]] += 1\n",
        "  bow_ls.append(bow.tolist())"
      ],
      "metadata": {
        "id": "SpiKbZgE0rKI"
      },
      "execution_count": 9,
      "outputs": []
    },
    {
      "cell_type": "code",
      "source": [
        "bow_ls"
      ],
      "metadata": {
        "colab": {
          "base_uri": "https://localhost:8080/"
        },
        "id": "EWxFSE-s1Chm",
        "outputId": "591b4ee5-138f-4d58-91bf-e335ad201a5b"
      },
      "execution_count": 10,
      "outputs": [
        {
          "output_type": "execute_result",
          "data": {
            "text/plain": [
              "[[1, 1, 2, 1, 1, 1, 1], [1, 1, 2, 1, 1, 1, 1]]"
            ]
          },
          "metadata": {},
          "execution_count": 10
        }
      ]
    },
    {
      "cell_type": "markdown",
      "source": [
        "## 두 문장이 완전히 다른 의미를 갖지만, BoW를 실행하면 같은 결과를 얻음"
      ],
      "metadata": {
        "id": "UfLG9-4-1FAw"
      }
    },
    {
      "cell_type": "markdown",
      "source": [
        "## 1.3 Sklearn활용"
      ],
      "metadata": {
        "id": "PgbkSdU51L-k"
      }
    },
    {
      "cell_type": "code",
      "source": [
        "docs = ['오늘 동물원에서 원숭이를 봤어',\n",
        "        '오늘 동물원에서 코끼리를 봤어 봤어',\n",
        "        '동물원에서 원숭이에게 바나나를 줬어 바나나를']"
      ],
      "metadata": {
        "id": "hcS30k8Z1Pu1"
      },
      "execution_count": 11,
      "outputs": []
    },
    {
      "cell_type": "code",
      "source": [
        "from sklearn.feature_extraction.text import CountVectorizer\n",
        "\n",
        "count_vect = CountVectorizer()\n",
        "BoW = count_vect.fit_transform(docs)"
      ],
      "metadata": {
        "id": "sCid0EEj1TA9"
      },
      "execution_count": 12,
      "outputs": []
    },
    {
      "cell_type": "code",
      "source": [
        "BoW.toarray()"
      ],
      "metadata": {
        "colab": {
          "base_uri": "https://localhost:8080/"
        },
        "id": "vcDmHXhi1emk",
        "outputId": "498a8839-2ce0-4233-d027-5a165bdd0ef2"
      },
      "execution_count": 13,
      "outputs": [
        {
          "output_type": "execute_result",
          "data": {
            "text/plain": [
              "array([[1, 0, 1, 1, 1, 0, 0, 0],\n",
              "       [1, 0, 2, 1, 0, 0, 0, 1],\n",
              "       [1, 2, 0, 0, 0, 1, 1, 0]])"
            ]
          },
          "metadata": {},
          "execution_count": 13
        }
      ]
    },
    {
      "cell_type": "code",
      "source": [
        "count_vect.vocabulary_"
      ],
      "metadata": {
        "colab": {
          "base_uri": "https://localhost:8080/"
        },
        "id": "cw8siA8e1izN",
        "outputId": "939be1e7-5a1e-4575-b376-2f463a0af025"
      },
      "execution_count": 14,
      "outputs": [
        {
          "output_type": "execute_result",
          "data": {
            "text/plain": [
              "{'동물원에서': 0,\n",
              " '바나나를': 1,\n",
              " '봤어': 2,\n",
              " '오늘': 3,\n",
              " '원숭이를': 4,\n",
              " '원숭이에게': 5,\n",
              " '줬어': 6,\n",
              " '코끼리를': 7}"
            ]
          },
          "metadata": {},
          "execution_count": 14
        }
      ]
    },
    {
      "cell_type": "markdown",
      "source": [
        "## 1.4 gensim 활용"
      ],
      "metadata": {
        "id": "jLtKwgam1pSB"
      }
    },
    {
      "cell_type": "code",
      "source": [
        "docs = ['오늘 동물원에서 원숭이를 봤어',\n",
        "        '오늘 동물원에서 코끼리를 봤어 봤어',\n",
        "        '동물원에서 원숭이에게 바나나를 줬어 바나나를']"
      ],
      "metadata": {
        "id": "SfflQD-i1lt-"
      },
      "execution_count": 15,
      "outputs": []
    },
    {
      "cell_type": "code",
      "source": [
        "import gensim\n",
        "from gensim import corpora\n",
        "\n",
        "doc_ls = [d.split() for d in docs]\n",
        "id2word = corpora.Dictionary(doc_ls)\n",
        "bow = [id2word.doc2bow(d) for d in doc_ls]"
      ],
      "metadata": {
        "id": "-ODtIWdf1sNd"
      },
      "execution_count": 16,
      "outputs": []
    },
    {
      "cell_type": "code",
      "source": [
        "bow"
      ],
      "metadata": {
        "colab": {
          "base_uri": "https://localhost:8080/"
        },
        "id": "mV255P35116o",
        "outputId": "86f6d635-9a4a-47dc-ea28-0bd387c42eba"
      },
      "execution_count": 17,
      "outputs": [
        {
          "output_type": "execute_result",
          "data": {
            "text/plain": [
              "[[(0, 1), (1, 1), (2, 1), (3, 1)],\n",
              " [(0, 1), (1, 2), (2, 1), (4, 1)],\n",
              " [(0, 1), (5, 2), (6, 1), (7, 1)]]"
            ]
          },
          "metadata": {},
          "execution_count": 17
        }
      ]
    },
    {
      "cell_type": "code",
      "source": [
        "id2word[1]"
      ],
      "metadata": {
        "colab": {
          "base_uri": "https://localhost:8080/",
          "height": 35
        },
        "id": "VqgCh0UP2CSx",
        "outputId": "498505aa-f077-4bdf-d788-f32fe32eec60"
      },
      "execution_count": 18,
      "outputs": [
        {
          "output_type": "execute_result",
          "data": {
            "application/vnd.google.colaboratory.intrinsic+json": {
              "type": "string"
            },
            "text/plain": [
              "'봤어'"
            ]
          },
          "metadata": {},
          "execution_count": 18
        }
      ]
    },
    {
      "cell_type": "markdown",
      "source": [
        "# 2 TDM(Term-Document Matrix)"
      ],
      "metadata": {
        "id": "j4AYr_Rk2WAC"
      }
    },
    {
      "cell_type": "markdown",
      "source": [
        "## 2.1 직접구현"
      ],
      "metadata": {
        "id": "RYhxCvcS2ZWV"
      }
    },
    {
      "cell_type": "code",
      "execution_count": 19,
      "metadata": {
        "id": "AeYAyiTZ2mHV"
      },
      "outputs": [],
      "source": [
        "docs = ['오늘 동물원에서 원숭이를 봤어',\n",
        "        '오늘 동물원에서 코끼리를 봤어 봤어',\n",
        "        '동물원에서 원숭이에게 바나나를 줬어 바나나를']"
      ]
    },
    {
      "cell_type": "markdown",
      "source": [
        "### 1) 띄어쓰기 단위로 토큰화"
      ],
      "metadata": {
        "id": "TaQQD0rx2mHV"
      }
    },
    {
      "cell_type": "code",
      "source": [
        "doc_ls = [d.split() for d in docs]\n",
        "doc_ls"
      ],
      "metadata": {
        "colab": {
          "base_uri": "https://localhost:8080/"
        },
        "outputId": "de13f849-0990-4038-95e0-701180869016",
        "id": "UTjqvWeI2mHV"
      },
      "execution_count": 20,
      "outputs": [
        {
          "output_type": "execute_result",
          "data": {
            "text/plain": [
              "[['오늘', '동물원에서', '원숭이를', '봤어'],\n",
              " ['오늘', '동물원에서', '코끼리를', '봤어', '봤어'],\n",
              " ['동물원에서', '원숭이에게', '바나나를', '줬어', '바나나를']]"
            ]
          },
          "metadata": {},
          "execution_count": 20
        }
      ]
    },
    {
      "cell_type": "markdown",
      "source": [
        "### 2) 각 고유 토큰에 인덱스(Index)를 지정"
      ],
      "metadata": {
        "id": "ZCjdP6rK2mHV"
      }
    },
    {
      "cell_type": "code",
      "source": [
        "from collections import defaultdict\n",
        "\n",
        "word2id = defaultdict(lambda:len(word2id))\n",
        "[word2id[t] for d in doc_ls for t in d]\n",
        "word2id"
      ],
      "metadata": {
        "colab": {
          "base_uri": "https://localhost:8080/"
        },
        "outputId": "d984f66c-740c-4071-dcb7-855036087031",
        "id": "eabX2jHG2mHW"
      },
      "execution_count": 21,
      "outputs": [
        {
          "output_type": "execute_result",
          "data": {
            "text/plain": [
              "defaultdict(<function __main__.<lambda>>,\n",
              "            {'동물원에서': 1,\n",
              "             '바나나를': 6,\n",
              "             '봤어': 3,\n",
              "             '오늘': 0,\n",
              "             '원숭이를': 2,\n",
              "             '원숭이에게': 5,\n",
              "             '줬어': 7,\n",
              "             '코끼리를': 4})"
            ]
          },
          "metadata": {},
          "execution_count": 21
        }
      ]
    },
    {
      "cell_type": "markdown",
      "source": [
        "## 3) TDM 생성"
      ],
      "metadata": {
        "id": "zY8jt6mv2qPJ"
      }
    },
    {
      "cell_type": "code",
      "source": [
        "import numpy as np\n",
        "\n",
        "TDM = np.zeros((len(word2id), len(doc_ls)), dtype=int)"
      ],
      "metadata": {
        "id": "l0S44jV22Exv"
      },
      "execution_count": 22,
      "outputs": []
    },
    {
      "cell_type": "code",
      "source": [
        "TDM"
      ],
      "metadata": {
        "colab": {
          "base_uri": "https://localhost:8080/"
        },
        "id": "Frjb42aY25L_",
        "outputId": "013acb9a-c32a-4170-8ab6-f914b6ddf68f"
      },
      "execution_count": 23,
      "outputs": [
        {
          "output_type": "execute_result",
          "data": {
            "text/plain": [
              "array([[0, 0, 0],\n",
              "       [0, 0, 0],\n",
              "       [0, 0, 0],\n",
              "       [0, 0, 0],\n",
              "       [0, 0, 0],\n",
              "       [0, 0, 0],\n",
              "       [0, 0, 0],\n",
              "       [0, 0, 0]])"
            ]
          },
          "metadata": {},
          "execution_count": 23
        }
      ]
    },
    {
      "cell_type": "code",
      "source": [
        "for i, d in enumerate(doc_ls):\n",
        "  for t in d:\n",
        "    TDM[word2id[t], i] += 1"
      ],
      "metadata": {
        "id": "hHpmNzxK2973"
      },
      "execution_count": 24,
      "outputs": []
    },
    {
      "cell_type": "code",
      "source": [
        "TDM"
      ],
      "metadata": {
        "colab": {
          "base_uri": "https://localhost:8080/"
        },
        "id": "UiNrULTy3Go0",
        "outputId": "5482d042-eb00-4629-dbb9-61effad119e7"
      },
      "execution_count": 25,
      "outputs": [
        {
          "output_type": "execute_result",
          "data": {
            "text/plain": [
              "array([[1, 1, 0],\n",
              "       [1, 1, 1],\n",
              "       [1, 0, 0],\n",
              "       [1, 2, 0],\n",
              "       [0, 1, 0],\n",
              "       [0, 0, 1],\n",
              "       [0, 0, 2],\n",
              "       [0, 0, 1]])"
            ]
          },
          "metadata": {},
          "execution_count": 25
        }
      ]
    },
    {
      "cell_type": "markdown",
      "source": [
        "## 2.2 sklearn 활용"
      ],
      "metadata": {
        "id": "vF1Qdxov3JPC"
      }
    },
    {
      "cell_type": "code",
      "source": [
        "docs = ['오늘 동물원에서 원숭이를 봤어',\n",
        "        '오늘 동물원에서 코끼리를 봤어 봤어',\n",
        "        '동물원에서 원숭이에게 바나나를 줬어 바나나를']"
      ],
      "metadata": {
        "id": "wVmqGqn-3HDb"
      },
      "execution_count": 26,
      "outputs": []
    },
    {
      "cell_type": "code",
      "source": [
        "from sklearn.feature_extraction.text import CountVectorizer\n",
        "\n",
        "count_vect = CountVectorizer()\n",
        "DTM = count_vect.fit_transform(docs)"
      ],
      "metadata": {
        "id": "SmE0oEt13PBI"
      },
      "execution_count": 27,
      "outputs": []
    },
    {
      "cell_type": "code",
      "source": [
        "DTM.toarray()"
      ],
      "metadata": {
        "colab": {
          "base_uri": "https://localhost:8080/"
        },
        "id": "angfyttf3VUV",
        "outputId": "f17ef5b5-babb-490b-8430-f64f558c08d7"
      },
      "execution_count": 28,
      "outputs": [
        {
          "output_type": "execute_result",
          "data": {
            "text/plain": [
              "array([[1, 0, 1, 1, 1, 0, 0, 0],\n",
              "       [1, 0, 2, 1, 0, 0, 0, 1],\n",
              "       [1, 2, 0, 0, 0, 1, 1, 0]])"
            ]
          },
          "metadata": {},
          "execution_count": 28
        }
      ]
    },
    {
      "cell_type": "markdown",
      "source": [
        "## 2.3 gensim 활용"
      ],
      "metadata": {
        "id": "i3zFUIKT3eGY"
      }
    },
    {
      "cell_type": "code",
      "source": [
        "docs = ['오늘 동물원에서 원숭이를 봤어',\n",
        "        '오늘 동물원에서 코끼리를 봤어 봤어',\n",
        "        '동물원에서 원숭이에게 바나나를 줬어 바나나를']"
      ],
      "metadata": {
        "id": "bgvWzbu33mak"
      },
      "execution_count": 29,
      "outputs": []
    },
    {
      "cell_type": "code",
      "source": [
        "import gensim\n",
        "from gensim import corpora\n",
        "\n",
        "doc_ls = [d.split() for d in docs]\n",
        "id2word = corpora.Dictionary(doc_ls)\n",
        "TDM = [id2word.doc2bow(d) for d in doc_ls]"
      ],
      "metadata": {
        "id": "rQBgClwy3Wmd"
      },
      "execution_count": 30,
      "outputs": []
    },
    {
      "cell_type": "code",
      "source": [
        "TDM"
      ],
      "metadata": {
        "colab": {
          "base_uri": "https://localhost:8080/"
        },
        "id": "TzKlvdnv3pY0",
        "outputId": "3bc48423-36e4-4d12-ae66-8221d102f07c"
      },
      "execution_count": 31,
      "outputs": [
        {
          "output_type": "execute_result",
          "data": {
            "text/plain": [
              "[[(0, 1), (1, 1), (2, 1), (3, 1)],\n",
              " [(0, 1), (1, 2), (2, 1), (4, 1)],\n",
              " [(0, 1), (5, 2), (6, 1), (7, 1)]]"
            ]
          },
          "metadata": {},
          "execution_count": 31
        }
      ]
    }
  ]
}